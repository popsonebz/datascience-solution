{
 "cells": [
  {
   "cell_type": "markdown",
   "metadata": {},
   "source": [
    "# Process taken in analysing the data"
   ]
  },
  {
   "cell_type": "markdown",
   "metadata": {},
   "source": [
    "* The data is read to perform initial inspection so as to have an idea of the problem to be solved.\n",
    "* The quantity (shape) of the data is observed including the \"feature\" data types.\n",
    "* The features are checked for errors and missing values.\n",
    "* The errors are corrected if they are minor while possible techniques are used to fill-in missing values.\n",
    "* Outliers are checked.\n",
    "* Graphs are plotted to see the possible effects of including or excluding outliers.\n",
    "* Analyses and inference are drawn from the descriptive statistics\n",
    "* Recommendations are drawn for business purpose."
   ]
  },
  {
   "cell_type": "code",
   "execution_count": 1,
   "metadata": {},
   "outputs": [
    {
     "name": "stdout",
     "output_type": "stream",
     "text": [
      "         CID  GENDER  AGE       SPEND\n",
      "0          0    MALE   22  253.634165\n",
      "1          1  FEMALE   28  201.438190\n",
      "2          2    MALE   29  160.000000\n",
      "3          3    MALE   28  161.207419\n",
      "4          4    MALE   21  160.000000\n",
      "5          5    MALE   29  315.736724\n",
      "6          6  FEMALE   25  245.142347\n",
      "7          7  FEMALE   28  236.169459\n",
      "8          8  FEMALE   29  199.851566\n",
      "9          9  FEMALE   21  210.433502\n",
      "10        10  FEMALE   21  195.034750\n",
      "11        11  FEMALE   21  191.953731\n",
      "12        12    MALE   27  197.497237\n",
      "13        13    MALE   29  252.710639\n",
      "14        14  FEMALE   21  219.882536\n",
      "15        15  FEMALE   26  232.536818\n",
      "16        16  FEMALE   28  225.783378\n",
      "17        17  FEMALE   29  196.076847\n",
      "18        18  FEMALE   28  211.572493\n",
      "19        19    MALE   28  292.822734\n",
      "20        20     NaN   25  208.816865\n",
      "21        21  FEMALE   27  180.768065\n",
      "22        22    MALE   29  199.731736\n",
      "23        23  FEMALE   26  130.975781\n",
      "24        24    MALE   28  278.646378\n",
      "25        25  FEMALE   27  268.131209\n",
      "26        26    MALE   28  288.367490\n",
      "27        27    MALE   25  160.000000\n",
      "28        28  FEMALE   25  254.190979\n",
      "29        29  FEMALE   25  220.949650\n",
      "...      ...     ...  ...         ...\n",
      "99970  99970  FEMALE   23  199.909254\n",
      "99971  99971    MALE   24  162.303536\n",
      "99972  99972  FEMALE   23  168.171507\n",
      "99973  99973  FEMALE   25  191.971576\n",
      "99974  99974  FEMALE   26  222.030809\n",
      "99975  99975    MALE   22  160.000000\n",
      "99976  99976  FEMALE   20  186.081036\n",
      "99977  99977  FEMALE   28  195.233497\n",
      "99978  99978  FEMALE   28  219.849361\n",
      "99979  99979  FEMALE   20  211.965371\n",
      "99980  99980  FEMALE   26  239.862143\n",
      "99981  99981    MALE   29  160.000000\n",
      "99982  99982  FEMALE   25  261.536705\n",
      "99983  99983  FEMALE   21  186.656841\n",
      "99984  99984    MALE   25  160.000000\n",
      "99985  99985    MALE   23  269.589707\n",
      "99986  99986    MALE   24  234.670989\n",
      "99987  99987    MALE   21  160.000000\n",
      "99988  99988    MALE   23  343.889504\n",
      "99989  99989    MALE   27  319.378844\n",
      "99990  99990    MALE   23  188.993295\n",
      "99991  99991    MALE   26  200.285712\n",
      "99992  99992  FEMALE   25  189.540511\n",
      "99993  99993    MALE   23  247.325010\n",
      "99994  99994    MALE   24  209.493014\n",
      "99995  99995  FEMALE   29  215.326453\n",
      "99996  99996  FEMALE   26  173.907227\n",
      "99997  99997  FEMALE   21  189.059672\n",
      "99998  99998  FEMALE   23  231.155497\n",
      "99999  99999  FEMALE   28  191.516932\n",
      "\n",
      "[100000 rows x 4 columns]\n"
     ]
    }
   ],
   "source": [
    "import pandas as pd\n",
    "df1=pd.read_csv(\"dsbase.csv\", encoding=\"latin-1\")\n",
    "print(df1)\n",
    "\n",
    "#the output below shows that there are three main information in the dataset: Gender, Age and spend."
   ]
  },
  {
   "cell_type": "code",
   "execution_count": 2,
   "metadata": {},
   "outputs": [
    {
     "data": {
      "text/plain": [
       "CID         int64\n",
       "GENDER     object\n",
       "AGE         int64\n",
       "SPEND     float64\n",
       "dtype: object"
      ]
     },
     "execution_count": 2,
     "metadata": {},
     "output_type": "execute_result"
    }
   ],
   "source": [
    "df1.dtypes #data types"
   ]
  },
  {
   "cell_type": "code",
   "execution_count": 3,
   "metadata": {},
   "outputs": [
    {
     "data": {
      "text/plain": [
       "(100000, 4)"
      ]
     },
     "execution_count": 3,
     "metadata": {},
     "output_type": "execute_result"
    }
   ],
   "source": [
    "df1.shape\n",
    "\n"
   ]
  },
  {
   "cell_type": "code",
   "execution_count": 4,
   "metadata": {},
   "outputs": [],
   "source": [
    "#The result above shows there are 100,000 rows and 4 columns\n",
    "#But let us check if there are missing vaules in any of the three \"features\" of the dataset."
   ]
  },
  {
   "cell_type": "markdown",
   "metadata": {},
   "source": [
    "# DATA INSPECTION AND CLEANING (MISSING VALUES and TYPOS)"
   ]
  },
  {
   "cell_type": "code",
   "execution_count": 5,
   "metadata": {},
   "outputs": [
    {
     "data": {
      "text/html": [
       "<div>\n",
       "<style>\n",
       "    .dataframe thead tr:only-child th {\n",
       "        text-align: right;\n",
       "    }\n",
       "\n",
       "    .dataframe thead th {\n",
       "        text-align: left;\n",
       "    }\n",
       "\n",
       "    .dataframe tbody tr th {\n",
       "        vertical-align: top;\n",
       "    }\n",
       "</style>\n",
       "<table border=\"1\" class=\"dataframe\">\n",
       "  <thead>\n",
       "    <tr style=\"text-align: right;\">\n",
       "      <th></th>\n",
       "      <th>CID</th>\n",
       "      <th>GENDER</th>\n",
       "      <th>AGE</th>\n",
       "      <th>SPEND</th>\n",
       "    </tr>\n",
       "  </thead>\n",
       "  <tbody>\n",
       "    <tr>\n",
       "      <th>count</th>\n",
       "      <td>100000.000000</td>\n",
       "      <td>98774</td>\n",
       "      <td>100000.000000</td>\n",
       "      <td>98768.000000</td>\n",
       "    </tr>\n",
       "    <tr>\n",
       "      <th>unique</th>\n",
       "      <td>NaN</td>\n",
       "      <td>3</td>\n",
       "      <td>NaN</td>\n",
       "      <td>NaN</td>\n",
       "    </tr>\n",
       "    <tr>\n",
       "      <th>top</th>\n",
       "      <td>NaN</td>\n",
       "      <td>FEMALE</td>\n",
       "      <td>NaN</td>\n",
       "      <td>NaN</td>\n",
       "    </tr>\n",
       "    <tr>\n",
       "      <th>freq</th>\n",
       "      <td>NaN</td>\n",
       "      <td>59270</td>\n",
       "      <td>NaN</td>\n",
       "      <td>NaN</td>\n",
       "    </tr>\n",
       "    <tr>\n",
       "      <th>mean</th>\n",
       "      <td>49999.500000</td>\n",
       "      <td>NaN</td>\n",
       "      <td>24.519760</td>\n",
       "      <td>210.813673</td>\n",
       "    </tr>\n",
       "    <tr>\n",
       "      <th>std</th>\n",
       "      <td>28867.657797</td>\n",
       "      <td>NaN</td>\n",
       "      <td>5.576112</td>\n",
       "      <td>48.809510</td>\n",
       "    </tr>\n",
       "    <tr>\n",
       "      <th>min</th>\n",
       "      <td>0.000000</td>\n",
       "      <td>NaN</td>\n",
       "      <td>0.000000</td>\n",
       "      <td>64.016263</td>\n",
       "    </tr>\n",
       "    <tr>\n",
       "      <th>25%</th>\n",
       "      <td>24999.750000</td>\n",
       "      <td>NaN</td>\n",
       "      <td>22.000000</td>\n",
       "      <td>176.044081</td>\n",
       "    </tr>\n",
       "    <tr>\n",
       "      <th>50%</th>\n",
       "      <td>49999.500000</td>\n",
       "      <td>NaN</td>\n",
       "      <td>24.000000</td>\n",
       "      <td>205.897784</td>\n",
       "    </tr>\n",
       "    <tr>\n",
       "      <th>75%</th>\n",
       "      <td>74999.250000</td>\n",
       "      <td>NaN</td>\n",
       "      <td>27.000000</td>\n",
       "      <td>234.500880</td>\n",
       "    </tr>\n",
       "    <tr>\n",
       "      <th>max</th>\n",
       "      <td>99999.000000</td>\n",
       "      <td>NaN</td>\n",
       "      <td>899.000000</td>\n",
       "      <td>3724.453092</td>\n",
       "    </tr>\n",
       "  </tbody>\n",
       "</table>\n",
       "</div>"
      ],
      "text/plain": [
       "                  CID  GENDER            AGE         SPEND\n",
       "count   100000.000000   98774  100000.000000  98768.000000\n",
       "unique            NaN       3            NaN           NaN\n",
       "top               NaN  FEMALE            NaN           NaN\n",
       "freq              NaN   59270            NaN           NaN\n",
       "mean     49999.500000     NaN      24.519760    210.813673\n",
       "std      28867.657797     NaN       5.576112     48.809510\n",
       "min          0.000000     NaN       0.000000     64.016263\n",
       "25%      24999.750000     NaN      22.000000    176.044081\n",
       "50%      49999.500000     NaN      24.000000    205.897784\n",
       "75%      74999.250000     NaN      27.000000    234.500880\n",
       "max      99999.000000     NaN     899.000000   3724.453092"
      ]
     },
     "execution_count": 5,
     "metadata": {},
     "output_type": "execute_result"
    }
   ],
   "source": [
    "df1.describe(include=\"all\")"
   ]
  },
  {
   "cell_type": "code",
   "execution_count": 6,
   "metadata": {},
   "outputs": [],
   "source": [
    "#From the output above, you will notice that there are missing values for Gender and age as we expect a total \"count\" of \n",
    "#of each feature to have 100,000 rows but we see that \"Gender\" and \"Spend\" has only 98,774 and 98,768."
   ]
  },
  {
   "cell_type": "code",
   "execution_count": 7,
   "metadata": {},
   "outputs": [],
   "source": [
    "# Why do we have fewer data?\n",
    "#Could it be there were typographical errors or missing values?\n",
    "#Let us find out"
   ]
  },
  {
   "cell_type": "code",
   "execution_count": 8,
   "metadata": {},
   "outputs": [
    {
     "data": {
      "text/plain": [
       "CID          0\n",
       "GENDER    1226\n",
       "AGE          0\n",
       "SPEND     1232\n",
       "dtype: int64"
      ]
     },
     "execution_count": 8,
     "metadata": {},
     "output_type": "execute_result"
    }
   ],
   "source": [
    "df1.isnull().sum()"
   ]
  },
  {
   "cell_type": "code",
   "execution_count": 9,
   "metadata": {},
   "outputs": [],
   "source": [
    "#The result above gives a count of the number of missing values in each column\n",
    "#Let us see if the total value sums up\n"
   ]
  },
  {
   "cell_type": "code",
   "execution_count": 10,
   "metadata": {},
   "outputs": [
    {
     "data": {
      "text/plain": [
       "100000"
      ]
     },
     "execution_count": 10,
     "metadata": {},
     "output_type": "execute_result"
    }
   ],
   "source": [
    "gender = 1226 + 98774\n",
    "gender"
   ]
  },
  {
   "cell_type": "code",
   "execution_count": 11,
   "metadata": {},
   "outputs": [
    {
     "data": {
      "text/plain": [
       "100000"
      ]
     },
     "execution_count": 11,
     "metadata": {},
     "output_type": "execute_result"
    }
   ],
   "source": [
    "age = 1232 + 98768\n",
    "age"
   ]
  },
  {
   "cell_type": "code",
   "execution_count": 12,
   "metadata": {},
   "outputs": [],
   "source": [
    "# From the above, we have confirmed there are missing values and we will solve this later on."
   ]
  },
  {
   "cell_type": "code",
   "execution_count": 13,
   "metadata": {},
   "outputs": [],
   "source": [
    "# Now, let us count the number of male and female in the dataset"
   ]
  },
  {
   "cell_type": "code",
   "execution_count": 14,
   "metadata": {},
   "outputs": [
    {
     "data": {
      "text/plain": [
       "FEMALE     59270\n",
       "MALE       39435\n",
       "Má ALE       69\n",
       "Name: GENDER, dtype: int64"
      ]
     },
     "execution_count": 14,
     "metadata": {},
     "output_type": "execute_result"
    }
   ],
   "source": [
    "df1.GENDER.value_counts() # An attempt to count the number of MALE and FEMALE"
   ]
  },
  {
   "cell_type": "code",
   "execution_count": 15,
   "metadata": {},
   "outputs": [],
   "source": [
    "#We have seen the error. the word \"MALE\" was not spelt correctly in some instance"
   ]
  },
  {
   "cell_type": "code",
   "execution_count": 16,
   "metadata": {},
   "outputs": [],
   "source": [
    "#The easiest way is to select what is not in this list ['MALE','FEMALE', 'NaN']. remember, \"NaN\" means it is completly\n",
    "#missing"
   ]
  },
  {
   "cell_type": "code",
   "execution_count": 17,
   "metadata": {},
   "outputs": [],
   "source": [
    "wrongly_spelt_or_no_gender = df1.loc[~df1['GENDER'].isin(['MALE','FEMALE'])]"
   ]
  },
  {
   "cell_type": "code",
   "execution_count": 18,
   "metadata": {},
   "outputs": [],
   "source": [
    "wrongly_spelt_gender = wrongly_spelt_or_no_gender[~wrongly_spelt_or_no_gender['GENDER'].isnull()]"
   ]
  },
  {
   "cell_type": "code",
   "execution_count": 19,
   "metadata": {},
   "outputs": [
    {
     "data": {
      "text/html": [
       "<div>\n",
       "<style>\n",
       "    .dataframe thead tr:only-child th {\n",
       "        text-align: right;\n",
       "    }\n",
       "\n",
       "    .dataframe thead th {\n",
       "        text-align: left;\n",
       "    }\n",
       "\n",
       "    .dataframe tbody tr th {\n",
       "        vertical-align: top;\n",
       "    }\n",
       "</style>\n",
       "<table border=\"1\" class=\"dataframe\">\n",
       "  <thead>\n",
       "    <tr style=\"text-align: right;\">\n",
       "      <th></th>\n",
       "      <th>CID</th>\n",
       "      <th>GENDER</th>\n",
       "      <th>AGE</th>\n",
       "      <th>SPEND</th>\n",
       "    </tr>\n",
       "  </thead>\n",
       "  <tbody>\n",
       "    <tr>\n",
       "      <th>570</th>\n",
       "      <td>570</td>\n",
       "      <td>Má ALE</td>\n",
       "      <td>20</td>\n",
       "      <td>186.656132</td>\n",
       "    </tr>\n",
       "    <tr>\n",
       "      <th>664</th>\n",
       "      <td>664</td>\n",
       "      <td>Má ALE</td>\n",
       "      <td>21</td>\n",
       "      <td>189.643847</td>\n",
       "    </tr>\n",
       "    <tr>\n",
       "      <th>1322</th>\n",
       "      <td>1322</td>\n",
       "      <td>Má ALE</td>\n",
       "      <td>22</td>\n",
       "      <td>199.181498</td>\n",
       "    </tr>\n",
       "    <tr>\n",
       "      <th>7156</th>\n",
       "      <td>7156</td>\n",
       "      <td>Má ALE</td>\n",
       "      <td>22</td>\n",
       "      <td>NaN</td>\n",
       "    </tr>\n",
       "    <tr>\n",
       "      <th>8345</th>\n",
       "      <td>8345</td>\n",
       "      <td>Má ALE</td>\n",
       "      <td>24</td>\n",
       "      <td>204.119459</td>\n",
       "    </tr>\n",
       "    <tr>\n",
       "      <th>9974</th>\n",
       "      <td>9974</td>\n",
       "      <td>Má ALE</td>\n",
       "      <td>21</td>\n",
       "      <td>194.692848</td>\n",
       "    </tr>\n",
       "    <tr>\n",
       "      <th>17003</th>\n",
       "      <td>17003</td>\n",
       "      <td>Má ALE</td>\n",
       "      <td>25</td>\n",
       "      <td>206.453431</td>\n",
       "    </tr>\n",
       "    <tr>\n",
       "      <th>17598</th>\n",
       "      <td>17598</td>\n",
       "      <td>Má ALE</td>\n",
       "      <td>28</td>\n",
       "      <td>219.052786</td>\n",
       "    </tr>\n",
       "    <tr>\n",
       "      <th>17988</th>\n",
       "      <td>17988</td>\n",
       "      <td>Má ALE</td>\n",
       "      <td>27</td>\n",
       "      <td>219.510486</td>\n",
       "    </tr>\n",
       "    <tr>\n",
       "      <th>21240</th>\n",
       "      <td>21240</td>\n",
       "      <td>Má ALE</td>\n",
       "      <td>22</td>\n",
       "      <td>200.272357</td>\n",
       "    </tr>\n",
       "  </tbody>\n",
       "</table>\n",
       "</div>"
      ],
      "text/plain": [
       "         CID   GENDER  AGE       SPEND\n",
       "570      570  Má ALE   20  186.656132\n",
       "664      664  Má ALE   21  189.643847\n",
       "1322    1322  Má ALE   22  199.181498\n",
       "7156    7156  Má ALE   22         NaN\n",
       "8345    8345  Má ALE   24  204.119459\n",
       "9974    9974  Má ALE   21  194.692848\n",
       "17003  17003  Má ALE   25  206.453431\n",
       "17598  17598  Má ALE   28  219.052786\n",
       "17988  17988  Má ALE   27  219.510486\n",
       "21240  21240  Má ALE   22  200.272357"
      ]
     },
     "execution_count": 19,
     "metadata": {},
     "output_type": "execute_result"
    }
   ],
   "source": [
    "wrongly_spelt_gender.head(n=10)"
   ]
  },
  {
   "cell_type": "code",
   "execution_count": 20,
   "metadata": {},
   "outputs": [
    {
     "name": "stderr",
     "output_type": "stream",
     "text": [
      "/Users/popoolaebenezer/.virtualenvs/testenv/lib/python2.7/site-packages/ipykernel_launcher.py:1: SettingWithCopyWarning: \n",
      "A value is trying to be set on a copy of a slice from a DataFrame.\n",
      "Try using .loc[row_indexer,col_indexer] = value instead\n",
      "\n",
      "See the caveats in the documentation: http://pandas.pydata.org/pandas-docs/stable/indexing.html#indexing-view-versus-copy\n",
      "  \"\"\"Entry point for launching an IPython kernel.\n"
     ]
    }
   ],
   "source": [
    "wrongly_spelt_gender['GENDER'] = 'MALE' # Fixing wrongly spelt male gender"
   ]
  },
  {
   "cell_type": "code",
   "execution_count": 21,
   "metadata": {},
   "outputs": [
    {
     "data": {
      "text/html": [
       "<div>\n",
       "<style>\n",
       "    .dataframe thead tr:only-child th {\n",
       "        text-align: right;\n",
       "    }\n",
       "\n",
       "    .dataframe thead th {\n",
       "        text-align: left;\n",
       "    }\n",
       "\n",
       "    .dataframe tbody tr th {\n",
       "        vertical-align: top;\n",
       "    }\n",
       "</style>\n",
       "<table border=\"1\" class=\"dataframe\">\n",
       "  <thead>\n",
       "    <tr style=\"text-align: right;\">\n",
       "      <th></th>\n",
       "      <th>CID</th>\n",
       "      <th>GENDER</th>\n",
       "      <th>AGE</th>\n",
       "      <th>SPEND</th>\n",
       "    </tr>\n",
       "  </thead>\n",
       "  <tbody>\n",
       "    <tr>\n",
       "      <th>570</th>\n",
       "      <td>570</td>\n",
       "      <td>MALE</td>\n",
       "      <td>20</td>\n",
       "      <td>186.656132</td>\n",
       "    </tr>\n",
       "    <tr>\n",
       "      <th>664</th>\n",
       "      <td>664</td>\n",
       "      <td>MALE</td>\n",
       "      <td>21</td>\n",
       "      <td>189.643847</td>\n",
       "    </tr>\n",
       "    <tr>\n",
       "      <th>1322</th>\n",
       "      <td>1322</td>\n",
       "      <td>MALE</td>\n",
       "      <td>22</td>\n",
       "      <td>199.181498</td>\n",
       "    </tr>\n",
       "    <tr>\n",
       "      <th>7156</th>\n",
       "      <td>7156</td>\n",
       "      <td>MALE</td>\n",
       "      <td>22</td>\n",
       "      <td>NaN</td>\n",
       "    </tr>\n",
       "    <tr>\n",
       "      <th>8345</th>\n",
       "      <td>8345</td>\n",
       "      <td>MALE</td>\n",
       "      <td>24</td>\n",
       "      <td>204.119459</td>\n",
       "    </tr>\n",
       "    <tr>\n",
       "      <th>9974</th>\n",
       "      <td>9974</td>\n",
       "      <td>MALE</td>\n",
       "      <td>21</td>\n",
       "      <td>194.692848</td>\n",
       "    </tr>\n",
       "    <tr>\n",
       "      <th>17003</th>\n",
       "      <td>17003</td>\n",
       "      <td>MALE</td>\n",
       "      <td>25</td>\n",
       "      <td>206.453431</td>\n",
       "    </tr>\n",
       "    <tr>\n",
       "      <th>17598</th>\n",
       "      <td>17598</td>\n",
       "      <td>MALE</td>\n",
       "      <td>28</td>\n",
       "      <td>219.052786</td>\n",
       "    </tr>\n",
       "    <tr>\n",
       "      <th>17988</th>\n",
       "      <td>17988</td>\n",
       "      <td>MALE</td>\n",
       "      <td>27</td>\n",
       "      <td>219.510486</td>\n",
       "    </tr>\n",
       "    <tr>\n",
       "      <th>21240</th>\n",
       "      <td>21240</td>\n",
       "      <td>MALE</td>\n",
       "      <td>22</td>\n",
       "      <td>200.272357</td>\n",
       "    </tr>\n",
       "  </tbody>\n",
       "</table>\n",
       "</div>"
      ],
      "text/plain": [
       "         CID GENDER  AGE       SPEND\n",
       "570      570   MALE   20  186.656132\n",
       "664      664   MALE   21  189.643847\n",
       "1322    1322   MALE   22  199.181498\n",
       "7156    7156   MALE   22         NaN\n",
       "8345    8345   MALE   24  204.119459\n",
       "9974    9974   MALE   21  194.692848\n",
       "17003  17003   MALE   25  206.453431\n",
       "17598  17598   MALE   28  219.052786\n",
       "17988  17988   MALE   27  219.510486\n",
       "21240  21240   MALE   22  200.272357"
      ]
     },
     "execution_count": 21,
     "metadata": {},
     "output_type": "execute_result"
    }
   ],
   "source": [
    "wrongly_spelt_gender.head(n=10) # This is now fixed"
   ]
  },
  {
   "cell_type": "code",
   "execution_count": 22,
   "metadata": {},
   "outputs": [],
   "source": [
    "#This is exactly 69 GENDER we were looking for., wrongly_spelt_or_no_gender[wrongly_spelt_or_no_gender['GENDER'].isnull()]"
   ]
  },
  {
   "cell_type": "code",
   "execution_count": 23,
   "metadata": {},
   "outputs": [],
   "source": [
    "#To correct this, we replace the GENDER with the right name."
   ]
  },
  {
   "cell_type": "code",
   "execution_count": 24,
   "metadata": {},
   "outputs": [],
   "source": [
    "combined_data = [df1.loc[df1['GENDER'].isin(['MALE','FEMALE'])] , wrongly_spelt_gender, wrongly_spelt_or_no_gender[wrongly_spelt_or_no_gender['GENDER'].isnull()]]"
   ]
  },
  {
   "cell_type": "code",
   "execution_count": 25,
   "metadata": {},
   "outputs": [
    {
     "data": {
      "text/html": [
       "<div>\n",
       "<style>\n",
       "    .dataframe thead tr:only-child th {\n",
       "        text-align: right;\n",
       "    }\n",
       "\n",
       "    .dataframe thead th {\n",
       "        text-align: left;\n",
       "    }\n",
       "\n",
       "    .dataframe tbody tr th {\n",
       "        vertical-align: top;\n",
       "    }\n",
       "</style>\n",
       "<table border=\"1\" class=\"dataframe\">\n",
       "  <thead>\n",
       "    <tr style=\"text-align: right;\">\n",
       "      <th></th>\n",
       "      <th>CID</th>\n",
       "      <th>GENDER</th>\n",
       "      <th>AGE</th>\n",
       "      <th>SPEND</th>\n",
       "    </tr>\n",
       "  </thead>\n",
       "  <tbody>\n",
       "    <tr>\n",
       "      <th>0</th>\n",
       "      <td>0</td>\n",
       "      <td>MALE</td>\n",
       "      <td>22</td>\n",
       "      <td>253.634165</td>\n",
       "    </tr>\n",
       "    <tr>\n",
       "      <th>1</th>\n",
       "      <td>1</td>\n",
       "      <td>FEMALE</td>\n",
       "      <td>28</td>\n",
       "      <td>201.438190</td>\n",
       "    </tr>\n",
       "    <tr>\n",
       "      <th>2</th>\n",
       "      <td>2</td>\n",
       "      <td>MALE</td>\n",
       "      <td>29</td>\n",
       "      <td>160.000000</td>\n",
       "    </tr>\n",
       "    <tr>\n",
       "      <th>3</th>\n",
       "      <td>3</td>\n",
       "      <td>MALE</td>\n",
       "      <td>28</td>\n",
       "      <td>161.207419</td>\n",
       "    </tr>\n",
       "    <tr>\n",
       "      <th>4</th>\n",
       "      <td>4</td>\n",
       "      <td>MALE</td>\n",
       "      <td>21</td>\n",
       "      <td>160.000000</td>\n",
       "    </tr>\n",
       "    <tr>\n",
       "      <th>5</th>\n",
       "      <td>5</td>\n",
       "      <td>MALE</td>\n",
       "      <td>29</td>\n",
       "      <td>315.736724</td>\n",
       "    </tr>\n",
       "    <tr>\n",
       "      <th>6</th>\n",
       "      <td>6</td>\n",
       "      <td>FEMALE</td>\n",
       "      <td>25</td>\n",
       "      <td>245.142347</td>\n",
       "    </tr>\n",
       "    <tr>\n",
       "      <th>7</th>\n",
       "      <td>7</td>\n",
       "      <td>FEMALE</td>\n",
       "      <td>28</td>\n",
       "      <td>236.169459</td>\n",
       "    </tr>\n",
       "    <tr>\n",
       "      <th>8</th>\n",
       "      <td>8</td>\n",
       "      <td>FEMALE</td>\n",
       "      <td>29</td>\n",
       "      <td>199.851566</td>\n",
       "    </tr>\n",
       "    <tr>\n",
       "      <th>9</th>\n",
       "      <td>9</td>\n",
       "      <td>FEMALE</td>\n",
       "      <td>21</td>\n",
       "      <td>210.433502</td>\n",
       "    </tr>\n",
       "  </tbody>\n",
       "</table>\n",
       "</div>"
      ],
      "text/plain": [
       "   CID  GENDER  AGE       SPEND\n",
       "0    0    MALE   22  253.634165\n",
       "1    1  FEMALE   28  201.438190\n",
       "2    2    MALE   29  160.000000\n",
       "3    3    MALE   28  161.207419\n",
       "4    4    MALE   21  160.000000\n",
       "5    5    MALE   29  315.736724\n",
       "6    6  FEMALE   25  245.142347\n",
       "7    7  FEMALE   28  236.169459\n",
       "8    8  FEMALE   29  199.851566\n",
       "9    9  FEMALE   21  210.433502"
      ]
     },
     "execution_count": 25,
     "metadata": {},
     "output_type": "execute_result"
    }
   ],
   "source": [
    "combined_data = pd.concat(combined_data)\n",
    "combined_data.head(n=10)"
   ]
  },
  {
   "cell_type": "markdown",
   "metadata": {},
   "source": [
    "## Dealing with missing"
   ]
  },
  {
   "cell_type": "code",
   "execution_count": 26,
   "metadata": {},
   "outputs": [],
   "source": [
    "#SINCE THERE ARE MORE FEMALE THAN MALE, I AM ASSUMING MISSING GENDERS ARE FEMALE INSTEAD OF DELETING THOSE RECORDS"
   ]
  },
  {
   "cell_type": "code",
   "execution_count": 27,
   "metadata": {},
   "outputs": [],
   "source": [
    "combined_data['GENDER'].fillna('FEMALE', inplace=True)"
   ]
  },
  {
   "cell_type": "code",
   "execution_count": 28,
   "metadata": {},
   "outputs": [
    {
     "data": {
      "text/plain": [
       "CID          0\n",
       "GENDER       0\n",
       "AGE          0\n",
       "SPEND     1232\n",
       "dtype: int64"
      ]
     },
     "execution_count": 28,
     "metadata": {},
     "output_type": "execute_result"
    }
   ],
   "source": [
    "combined_data.isnull().sum() # CONFIRMING IF ALL THE NULL VALUES IN GENDER HAS BEEN SOLVED"
   ]
  },
  {
   "cell_type": "code",
   "execution_count": 29,
   "metadata": {},
   "outputs": [],
   "source": [
    "# FIXING ISSUES WITH MISSING \"SPEND\" AMOUNT"
   ]
  },
  {
   "cell_type": "code",
   "execution_count": 30,
   "metadata": {},
   "outputs": [],
   "source": [
    "# HERE, I AM FILLING THE MISSING VALUES WITH THE MEAN \"SPEND\""
   ]
  },
  {
   "cell_type": "code",
   "execution_count": 31,
   "metadata": {},
   "outputs": [],
   "source": [
    "combined_data['SPEND'].fillna((combined_data['SPEND'].mean()), inplace=True)"
   ]
  },
  {
   "cell_type": "code",
   "execution_count": 32,
   "metadata": {},
   "outputs": [
    {
     "data": {
      "text/plain": [
       "CID       0\n",
       "GENDER    0\n",
       "AGE       0\n",
       "SPEND     0\n",
       "dtype: int64"
      ]
     },
     "execution_count": 32,
     "metadata": {},
     "output_type": "execute_result"
    }
   ],
   "source": [
    "combined_data.isnull().sum() # NOW THERE IS NO MISSING VALAUES"
   ]
  },
  {
   "cell_type": "code",
   "execution_count": 33,
   "metadata": {},
   "outputs": [
    {
     "data": {
      "text/html": [
       "<div>\n",
       "<style>\n",
       "    .dataframe thead tr:only-child th {\n",
       "        text-align: right;\n",
       "    }\n",
       "\n",
       "    .dataframe thead th {\n",
       "        text-align: left;\n",
       "    }\n",
       "\n",
       "    .dataframe tbody tr th {\n",
       "        vertical-align: top;\n",
       "    }\n",
       "</style>\n",
       "<table border=\"1\" class=\"dataframe\">\n",
       "  <thead>\n",
       "    <tr style=\"text-align: right;\">\n",
       "      <th></th>\n",
       "      <th>CID</th>\n",
       "      <th>GENDER</th>\n",
       "      <th>AGE</th>\n",
       "      <th>SPEND</th>\n",
       "    </tr>\n",
       "  </thead>\n",
       "  <tbody>\n",
       "    <tr>\n",
       "      <th>count</th>\n",
       "      <td>100000.000000</td>\n",
       "      <td>100000</td>\n",
       "      <td>100000.000000</td>\n",
       "      <td>100000.000000</td>\n",
       "    </tr>\n",
       "    <tr>\n",
       "      <th>unique</th>\n",
       "      <td>NaN</td>\n",
       "      <td>2</td>\n",
       "      <td>NaN</td>\n",
       "      <td>NaN</td>\n",
       "    </tr>\n",
       "    <tr>\n",
       "      <th>top</th>\n",
       "      <td>NaN</td>\n",
       "      <td>FEMALE</td>\n",
       "      <td>NaN</td>\n",
       "      <td>NaN</td>\n",
       "    </tr>\n",
       "    <tr>\n",
       "      <th>freq</th>\n",
       "      <td>NaN</td>\n",
       "      <td>60496</td>\n",
       "      <td>NaN</td>\n",
       "      <td>NaN</td>\n",
       "    </tr>\n",
       "    <tr>\n",
       "      <th>mean</th>\n",
       "      <td>49999.500000</td>\n",
       "      <td>NaN</td>\n",
       "      <td>24.519760</td>\n",
       "      <td>210.813673</td>\n",
       "    </tr>\n",
       "    <tr>\n",
       "      <th>std</th>\n",
       "      <td>28867.657797</td>\n",
       "      <td>NaN</td>\n",
       "      <td>5.576112</td>\n",
       "      <td>48.507909</td>\n",
       "    </tr>\n",
       "    <tr>\n",
       "      <th>min</th>\n",
       "      <td>0.000000</td>\n",
       "      <td>NaN</td>\n",
       "      <td>0.000000</td>\n",
       "      <td>64.016263</td>\n",
       "    </tr>\n",
       "    <tr>\n",
       "      <th>25%</th>\n",
       "      <td>24999.750000</td>\n",
       "      <td>NaN</td>\n",
       "      <td>22.000000</td>\n",
       "      <td>176.497021</td>\n",
       "    </tr>\n",
       "    <tr>\n",
       "      <th>50%</th>\n",
       "      <td>49999.500000</td>\n",
       "      <td>NaN</td>\n",
       "      <td>24.000000</td>\n",
       "      <td>206.559894</td>\n",
       "    </tr>\n",
       "    <tr>\n",
       "      <th>75%</th>\n",
       "      <td>74999.250000</td>\n",
       "      <td>NaN</td>\n",
       "      <td>27.000000</td>\n",
       "      <td>234.047062</td>\n",
       "    </tr>\n",
       "    <tr>\n",
       "      <th>max</th>\n",
       "      <td>99999.000000</td>\n",
       "      <td>NaN</td>\n",
       "      <td>899.000000</td>\n",
       "      <td>3724.453092</td>\n",
       "    </tr>\n",
       "  </tbody>\n",
       "</table>\n",
       "</div>"
      ],
      "text/plain": [
       "                  CID  GENDER            AGE          SPEND\n",
       "count   100000.000000  100000  100000.000000  100000.000000\n",
       "unique            NaN       2            NaN            NaN\n",
       "top               NaN  FEMALE            NaN            NaN\n",
       "freq              NaN   60496            NaN            NaN\n",
       "mean     49999.500000     NaN      24.519760     210.813673\n",
       "std      28867.657797     NaN       5.576112      48.507909\n",
       "min          0.000000     NaN       0.000000      64.016263\n",
       "25%      24999.750000     NaN      22.000000     176.497021\n",
       "50%      49999.500000     NaN      24.000000     206.559894\n",
       "75%      74999.250000     NaN      27.000000     234.047062\n",
       "max      99999.000000     NaN     899.000000    3724.453092"
      ]
     },
     "execution_count": 33,
     "metadata": {},
     "output_type": "execute_result"
    }
   ],
   "source": [
    "combined_data.describe(include=\"all\")"
   ]
  },
  {
   "cell_type": "markdown",
   "metadata": {},
   "source": [
    "# OUTLIER DETECTION"
   ]
  },
  {
   "cell_type": "code",
   "execution_count": 34,
   "metadata": {},
   "outputs": [],
   "source": [
    "\n",
    "import matplotlib.pyplot as plt\n",
    "import matplotlib\n",
    "import numpy as np\n",
    "import matplotlib.pyplot as plt\n",
    "%matplotlib inline \n",
    "#plt.scatter(combined_data['AGE'], combined_data['SPEND'])"
   ]
  },
  {
   "cell_type": "code",
   "execution_count": 35,
   "metadata": {},
   "outputs": [
    {
     "data": {
      "image/png": "[encoded data removed]",
      "text/plain": [
       "<matplotlib.figure.Figure at 0x1071699d0>"
      ]
     },
     "metadata": {},
     "output_type": "display_data"
    }
   ],
   "source": [
    "combined_data['AGE'].plot(kind='box', figsize=(12,8))\n",
    "plt.show()\n",
    "\n",
    "# THE FIGURE BELOW SHOWS THERE ARE OUTLIERS IN THE 'AGE'as it is evident that some ages are 200 and above. \n",
    "# this is not realistic"
   ]
  },
  {
   "cell_type": "code",
   "execution_count": 36,
   "metadata": {},
   "outputs": [
    {
     "data": {
      "text/plain": [
       "array([ 22,  28,  29,  21,  25,  27,  26,  24,  23,  20,   0, 384, 201,\n",
       "       741, 336, 404, 899, 380, 422, 277, 471])"
      ]
     },
     "execution_count": 36,
     "metadata": {},
     "output_type": "execute_result"
    }
   ],
   "source": [
    "combined_data['AGE'].unique() # We can see that age 0 and anything greater than 201 can be discarded or replaced"
   ]
  },
  {
   "cell_type": "code",
   "execution_count": 37,
   "metadata": {},
   "outputs": [],
   "source": [
    "combined_data.drop('CID', axis=1, inplace=True)"
   ]
  },
  {
   "cell_type": "code",
   "execution_count": 38,
   "metadata": {},
   "outputs": [
    {
     "data": {
      "text/html": [
       "<div>\n",
       "<style>\n",
       "    .dataframe thead tr:only-child th {\n",
       "        text-align: right;\n",
       "    }\n",
       "\n",
       "    .dataframe thead th {\n",
       "        text-align: left;\n",
       "    }\n",
       "\n",
       "    .dataframe tbody tr th {\n",
       "        vertical-align: top;\n",
       "    }\n",
       "</style>\n",
       "<table border=\"1\" class=\"dataframe\">\n",
       "  <thead>\n",
       "    <tr style=\"text-align: right;\">\n",
       "      <th></th>\n",
       "      <th></th>\n",
       "      <th>SPEND</th>\n",
       "    </tr>\n",
       "    <tr>\n",
       "      <th>GENDER</th>\n",
       "      <th>AGE</th>\n",
       "      <th></th>\n",
       "    </tr>\n",
       "  </thead>\n",
       "  <tbody>\n",
       "    <tr>\n",
       "      <th rowspan=\"19\" valign=\"top\">FEMALE</th>\n",
       "      <th>0</th>\n",
       "      <td>210.009046</td>\n",
       "    </tr>\n",
       "    <tr>\n",
       "      <th>20</th>\n",
       "      <td>190.325174</td>\n",
       "    </tr>\n",
       "    <tr>\n",
       "      <th>21</th>\n",
       "      <td>193.891937</td>\n",
       "    </tr>\n",
       "    <tr>\n",
       "      <th>22</th>\n",
       "      <td>197.730182</td>\n",
       "    </tr>\n",
       "    <tr>\n",
       "      <th>23</th>\n",
       "      <td>202.105781</td>\n",
       "    </tr>\n",
       "    <tr>\n",
       "      <th>24</th>\n",
       "      <td>205.574616</td>\n",
       "    </tr>\n",
       "    <tr>\n",
       "      <th>25</th>\n",
       "      <td>209.591997</td>\n",
       "    </tr>\n",
       "    <tr>\n",
       "      <th>26</th>\n",
       "      <td>213.663104</td>\n",
       "    </tr>\n",
       "    <tr>\n",
       "      <th>27</th>\n",
       "      <td>218.224460</td>\n",
       "    </tr>\n",
       "    <tr>\n",
       "      <th>28</th>\n",
       "      <td>221.852724</td>\n",
       "    </tr>\n",
       "    <tr>\n",
       "      <th>29</th>\n",
       "      <td>226.562954</td>\n",
       "    </tr>\n",
       "    <tr>\n",
       "      <th>277</th>\n",
       "      <td>1209.037406</td>\n",
       "    </tr>\n",
       "    <tr>\n",
       "      <th>380</th>\n",
       "      <td>1622.147598</td>\n",
       "    </tr>\n",
       "    <tr>\n",
       "      <th>384</th>\n",
       "      <td>1698.583319</td>\n",
       "    </tr>\n",
       "    <tr>\n",
       "      <th>404</th>\n",
       "      <td>1726.829656</td>\n",
       "    </tr>\n",
       "    <tr>\n",
       "      <th>422</th>\n",
       "      <td>1781.677352</td>\n",
       "    </tr>\n",
       "    <tr>\n",
       "      <th>471</th>\n",
       "      <td>1995.304900</td>\n",
       "    </tr>\n",
       "    <tr>\n",
       "      <th>741</th>\n",
       "      <td>3056.745376</td>\n",
       "    </tr>\n",
       "    <tr>\n",
       "      <th>899</th>\n",
       "      <td>3724.453092</td>\n",
       "    </tr>\n",
       "    <tr>\n",
       "      <th rowspan=\"13\" valign=\"top\">MALE</th>\n",
       "      <th>0</th>\n",
       "      <td>204.671134</td>\n",
       "    </tr>\n",
       "    <tr>\n",
       "      <th>20</th>\n",
       "      <td>203.065802</td>\n",
       "    </tr>\n",
       "    <tr>\n",
       "      <th>21</th>\n",
       "      <td>203.857436</td>\n",
       "    </tr>\n",
       "    <tr>\n",
       "      <th>22</th>\n",
       "      <td>209.063663</td>\n",
       "    </tr>\n",
       "    <tr>\n",
       "      <th>23</th>\n",
       "      <td>210.268018</td>\n",
       "    </tr>\n",
       "    <tr>\n",
       "      <th>24</th>\n",
       "      <td>213.859034</td>\n",
       "    </tr>\n",
       "    <tr>\n",
       "      <th>25</th>\n",
       "      <td>216.768200</td>\n",
       "    </tr>\n",
       "    <tr>\n",
       "      <th>26</th>\n",
       "      <td>217.931392</td>\n",
       "    </tr>\n",
       "    <tr>\n",
       "      <th>27</th>\n",
       "      <td>222.403307</td>\n",
       "    </tr>\n",
       "    <tr>\n",
       "      <th>28</th>\n",
       "      <td>222.959385</td>\n",
       "    </tr>\n",
       "    <tr>\n",
       "      <th>29</th>\n",
       "      <td>227.185998</td>\n",
       "    </tr>\n",
       "    <tr>\n",
       "      <th>201</th>\n",
       "      <td>948.649269</td>\n",
       "    </tr>\n",
       "    <tr>\n",
       "      <th>336</th>\n",
       "      <td>1550.561908</td>\n",
       "    </tr>\n",
       "  </tbody>\n",
       "</table>\n",
       "</div>"
      ],
      "text/plain": [
       "                  SPEND\n",
       "GENDER AGE             \n",
       "FEMALE 0     210.009046\n",
       "       20    190.325174\n",
       "       21    193.891937\n",
       "       22    197.730182\n",
       "       23    202.105781\n",
       "       24    205.574616\n",
       "       25    209.591997\n",
       "       26    213.663104\n",
       "       27    218.224460\n",
       "       28    221.852724\n",
       "       29    226.562954\n",
       "       277  1209.037406\n",
       "       380  1622.147598\n",
       "       384  1698.583319\n",
       "       404  1726.829656\n",
       "       422  1781.677352\n",
       "       471  1995.304900\n",
       "       741  3056.745376\n",
       "       899  3724.453092\n",
       "MALE   0     204.671134\n",
       "       20    203.065802\n",
       "       21    203.857436\n",
       "       22    209.063663\n",
       "       23    210.268018\n",
       "       24    213.859034\n",
       "       25    216.768200\n",
       "       26    217.931392\n",
       "       27    222.403307\n",
       "       28    222.959385\n",
       "       29    227.185998\n",
       "       201   948.649269\n",
       "       336  1550.561908"
      ]
     },
     "execution_count": 38,
     "metadata": {},
     "output_type": "execute_result"
    }
   ],
   "source": [
    "combined_data.groupby([ 'GENDER', 'AGE']).mean() # GROUP The average spending GENDER and AGE"
   ]
  },
  {
   "cell_type": "code",
   "execution_count": 39,
   "metadata": {},
   "outputs": [],
   "source": [
    "all_names_index =combined_data.groupby([ 'GENDER', 'AGE']).mean()"
   ]
  },
  {
   "cell_type": "code",
   "execution_count": 40,
   "metadata": {},
   "outputs": [],
   "source": [
    "female_spending=combined_data[combined_data.GENDER == 'FEMALE']"
   ]
  },
  {
   "cell_type": "code",
   "execution_count": 41,
   "metadata": {},
   "outputs": [],
   "source": [
    "male_spending=combined_data[combined_data.GENDER == 'MALE']"
   ]
  },
  {
   "cell_type": "code",
   "execution_count": 42,
   "metadata": {},
   "outputs": [],
   "source": [
    "average_female_spending_by_age=female_spending.groupby(['AGE']).mean()\n",
    "average_female_spending_by_age.rename(index=str, columns={\"SPEND\":\"AVERAGE SPENDING\"}, inplace=True)"
   ]
  },
  {
   "cell_type": "markdown",
   "metadata": {},
   "source": [
    "## A plot of the average spending by age without excluding the outliers in \"AGE\" "
   ]
  },
  {
   "cell_type": "code",
   "execution_count": 43,
   "metadata": {},
   "outputs": [
    {
     "data": {
      "text/plain": [
       "<matplotlib.axes._subplots.AxesSubplot at 0x1090e9b50>"
      ]
     },
     "execution_count": 43,
     "metadata": {},
     "output_type": "execute_result"
    },
    {
     "data": {
      "image/png": "[encoded data removed]",
      "text/plain": [
       "<matplotlib.figure.Figure at 0x10ae724d0>"
      ]
     },
     "metadata": {},
     "output_type": "display_data"
    }
   ],
   "source": [
    "average_female_spending_by_age.plot(kind='bar', title='Average female spending')"
   ]
  },
  {
   "cell_type": "code",
   "execution_count": 44,
   "metadata": {},
   "outputs": [],
   "source": [
    "average_male_spending_by_age=male_spending.groupby(['AGE']).mean()\n",
    "average_male_spending_by_age.rename(index=str, columns={\"SPEND\":\"AVERAGE SPENDING\"}, inplace=True)"
   ]
  },
  {
   "cell_type": "code",
   "execution_count": 45,
   "metadata": {},
   "outputs": [
    {
     "data": {
      "text/plain": [
       "<matplotlib.axes._subplots.AxesSubplot at 0x10b43ba90>"
      ]
     },
     "execution_count": 45,
     "metadata": {},
     "output_type": "execute_result"
    },
    {
     "data": {
      "image/png": "[encoded data removed]",
      "text/plain": [
       "<matplotlib.figure.Figure at 0x10b3ced10>"
      ]
     },
     "metadata": {},
     "output_type": "display_data"
    }
   ],
   "source": [
    "average_male_spending_by_age.plot(kind='bar', title='Average male spending')"
   ]
  },
  {
   "cell_type": "markdown",
   "metadata": {},
   "source": [
    "## A plot of the average spending by age excluding the outliers in \"AGE\""
   ]
  },
  {
   "cell_type": "markdown",
   "metadata": {},
   "source": [
    "### The meaningful age range is therefore 20 to 29"
   ]
  },
  {
   "cell_type": "code",
   "execution_count": 46,
   "metadata": {},
   "outputs": [],
   "source": [
    "average_male_spending_by_age =average_male_spending_by_age.loc['20':'29']"
   ]
  },
  {
   "cell_type": "code",
   "execution_count": 47,
   "metadata": {},
   "outputs": [],
   "source": [
    "average_female_spending_by_age =average_female_spending_by_age.loc['20':'29']"
   ]
  },
  {
   "cell_type": "code",
   "execution_count": 48,
   "metadata": {},
   "outputs": [
    {
     "data": {
      "text/plain": [
       "<matplotlib.axes._subplots.AxesSubplot at 0x10b2d0ed0>"
      ]
     },
     "execution_count": 48,
     "metadata": {},
     "output_type": "execute_result"
    },
    {
     "data": {
      "image/png": "[encoded data removed]",
      "text/plain": [
       "<matplotlib.figure.Figure at 0x10b43bb50>"
      ]
     },
     "metadata": {},
     "output_type": "display_data"
    },
    {
     "data": {
      "image/png": "[encoded data removed]",
      "text/plain": [
       "<matplotlib.figure.Figure at 0x10b43a350>"
      ]
     },
     "metadata": {},
     "output_type": "display_data"
    }
   ],
   "source": [
    "average_male_spending_by_age.plot(kind='bar', title='Average male spending')\n",
    "average_female_spending_by_age.plot(kind='bar', title='Average female spending')"
   ]
  },
  {
   "cell_type": "code",
   "execution_count": 49,
   "metadata": {},
   "outputs": [
    {
     "data": {
      "image/png": "[encoded data removed]",
      "text/plain": [
       "<matplotlib.figure.Figure at 0x10ae72210>"
      ]
     },
     "metadata": {},
     "output_type": "display_data"
    }
   ],
   "source": [
    "import numpy as np\n",
    "import matplotlib.pyplot as plt\n",
    "\n",
    "\n",
    "# data to plot\n",
    "n_groups = 10\n",
    " \n",
    "# create plot\n",
    "fig, ax = plt.subplots()\n",
    "fig.set_size_inches(18.5, 10.5)\n",
    "index = np.arange(n_groups)\n",
    "bar_width = 0.35\n",
    "opacity = 0.8\n",
    " \n",
    "rects1 = plt.bar(index, average_male_spending_by_age['AVERAGE SPENDING'], bar_width,\n",
    "                 alpha=opacity,\n",
    "                 color='b',\n",
    "                 label='Male')\n",
    " \n",
    "rects2 = plt.bar(index + bar_width, average_female_spending_by_age['AVERAGE SPENDING'], bar_width,\n",
    "                 alpha=opacity,\n",
    "                 color='g',\n",
    "                 label='Female')\n",
    " \n",
    "plt.xlabel('AGE')\n",
    "plt.ylabel('Average Spending')\n",
    "plt.title('Comparison of average spending between male and female')\n",
    "plt.xticks(index + bar_width, (20,21,22,23,24,25,26,27,28,29))\n",
    "plt.legend()\n",
    " \n",
    "plt.tight_layout()\n",
    "plt.show()"
   ]
  },
  {
   "cell_type": "markdown",
   "metadata": {},
   "source": [
    "## Observation from the plot above"
   ]
  },
  {
   "cell_type": "markdown",
   "metadata": {},
   "source": [
    "### 1. The average spending of males does not change significantly with increasing age."
   ]
  },
  {
   "cell_type": "markdown",
   "metadata": {},
   "source": [
    "### 2. There is a  steady increase in the average spending of females as the age increases."
   ]
  },
  {
   "cell_type": "markdown",
   "metadata": {},
   "source": [
    "### 3 Though the average spending of males across the age range is greater than that of females, the difference reduces as the age incerases."
   ]
  }
 ],
 "metadata": {
  "kernelspec": {
   "display_name": "Python 2",
   "language": "python",
   "name": "python2"
  },
  "language_info": {
   "codemirror_mode": {
    "name": "ipython",
    "version": 2
   },
   "file_extension": ".py",
   "mimetype": "text/x-python",
   "name": "python",
   "nbconvert_exporter": "python",
   "pygments_lexer": "ipython2",
   "version": "2.7.13"
  }
 },
 "nbformat": 4,
 "nbformat_minor": 2
}
