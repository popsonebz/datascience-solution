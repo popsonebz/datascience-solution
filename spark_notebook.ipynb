{
 "cells": [
  {
   "cell_type": "markdown",
   "metadata": {},
   "source": [
    "### Get the csv path"
   ]
  },
  {
   "cell_type": "code",
   "execution_count": 1,
   "metadata": {},
   "outputs": [],
   "source": [
    "import pandas as pd \n",
    "import os\n",
    "\n",
    "csv_path = os.environ[\"CSV_FILE_DIR\"]\n",
    "if csv_path.endswith(\"/\"):\n",
    "     csv_path = csv_path + \"data.csv\"   \n",
    "else:\n",
    "    csv_path = csv_path + \"/data.csv\" "
   ]
  },
  {
   "cell_type": "code",
   "execution_count": 2,
   "metadata": {},
   "outputs": [
    {
     "name": "stdout",
     "output_type": "stream",
     "text": [
      "running bash command to check if file is there\n",
      "-rw-r--r-- 1 root root 137245 Feb  8 13:50 /home/data.csv\r\n"
     ]
    }
   ],
   "source": [
    "print(\"running bash command to check if file is there\")\n",
    "! ls -la $csv_path"
   ]
  },
  {
   "cell_type": "markdown",
   "metadata": {},
   "source": [
    "### Spark Code"
   ]
  },
  {
   "cell_type": "code",
   "execution_count": 3,
   "metadata": {
    "ExecuteTime": {
     "end_time": "2018-01-05T09:28:44.176687Z",
     "start_time": "2018-01-05T09:28:44.159927Z"
    }
   },
   "outputs": [],
   "source": [
    "# Import Spark Library\n",
    "from pyspark.sql import SparkSession, functions as sqlfun"
   ]
  },
  {
   "cell_type": "markdown",
   "metadata": {},
   "source": [
    "** Note: Depending on how you have configured Spark in your spark config files and depending on how you defined spark w.r.t jupyter, the following line of code might not work and/or be needed explicitly for the other code to run. **"
   ]
  },
  {
   "cell_type": "code",
   "execution_count": 4,
   "metadata": {},
   "outputs": [],
   "source": [
    "## Create Spark Session\n",
    "spark = SparkSession.builder.master(\"local\").appName(\"Read CSV\").getOrCreate()"
   ]
  },
  {
   "cell_type": "code",
   "execution_count": 5,
   "metadata": {
    "ExecuteTime": {
     "end_time": "2018-01-05T09:29:34.567132Z",
     "start_time": "2018-01-05T09:29:34.409334Z"
    }
   },
   "outputs": [
    {
     "name": "stdout",
     "output_type": "stream",
     "text": [
      "CSV read into Spark Data Frame\n"
     ]
    }
   ],
   "source": [
    "## Read the csv file\n",
    "try:\n",
    "    csv_dataframe = spark.read.csv(csv_path,header=True)\n",
    "    print(\"CSV read into Spark Data Frame\")\n",
    "except:\n",
    "    print(\"ERROR: Unable to load file\")     "
   ]
  },
  {
   "cell_type": "code",
   "execution_count": 6,
   "metadata": {
    "ExecuteTime": {
     "end_time": "2018-01-05T09:28:50.633154Z",
     "start_time": "2018-01-05T09:28:50.548360Z"
    }
   },
   "outputs": [
    {
     "name": "stdout",
     "output_type": "stream",
     "text": [
      "+---+---------+-----+---------+\n",
      "|age| birthday|  zip|     city|\n",
      "+---+---------+-----+---------+\n",
      "| 24|3/22/1982|70052| Adoamalu|\n",
      "| 45|4/15/1991|77601|Somepufad|\n",
      "| 58|1/29/1956|99244| Muhejcab|\n",
      "| 23| 1/9/1967|11846| Bitheuli|\n",
      "| 18|5/23/1963|86903| Ruziffor|\n",
      "| 35| 8/7/1997|27040|Ejapovodo|\n",
      "| 31|12/3/1996|13321|Berapizam|\n",
      "| 37| 5/2/1991|81671|  Saggeub|\n",
      "| 26|9/24/1959|95581| Cigkesah|\n",
      "| 45|3/25/1980|77594|   Koveus|\n",
      "| 35|6/30/1988|91047|   Nuuzte|\n",
      "| 40|4/14/1968|46524|   Uczaja|\n",
      "| 39|5/13/1975|19801|Githiznob|\n",
      "| 23|9/25/1989|82620|Wewkabkim|\n",
      "| 18|3/17/1964|79747| Vezonave|\n",
      "| 48|2/17/1989|06611| Nurgazbe|\n",
      "| 33|4/11/1971|93393| Iwtukmad|\n",
      "| 28|1/31/1976|18158|  Oweziri|\n",
      "| 51| 4/8/2000|70791| Atozibin|\n",
      "| 36| 8/3/1976|02488| Toruzreb|\n",
      "+---+---------+-----+---------+\n",
      "only showing top 20 rows\n",
      "\n"
     ]
    }
   ],
   "source": [
    "csv_dataframe.show()"
   ]
  },
  {
   "cell_type": "code",
   "execution_count": 7,
   "metadata": {
    "ExecuteTime": {
     "end_time": "2018-01-05T09:28:51.445305Z",
     "start_time": "2018-01-05T09:28:51.432419Z"
    }
   },
   "outputs": [
    {
     "name": "stdout",
     "output_type": "stream",
     "text": [
      "root\n",
      " |-- age: string (nullable = true)\n",
      " |-- birthday: string (nullable = true)\n",
      " |-- zip: string (nullable = true)\n",
      " |-- city: string (nullable = true)\n",
      "\n"
     ]
    }
   ],
   "source": [
    "csv_dataframe.printSchema()"
   ]
  },
  {
   "cell_type": "code",
   "execution_count": 8,
   "metadata": {
    "ExecuteTime": {
     "end_time": "2018-01-05T09:34:33.861821Z",
     "start_time": "2018-01-05T09:34:33.799923Z"
    }
   },
   "outputs": [],
   "source": [
    "# define a new dataframe with a better schema \n",
    "#root\n",
    "# |-- age: integer (nullable = true)\n",
    "# |-- birthday: date (nullable = true)\n",
    "# |-- zip: string (nullable = true)\n",
    "# |-- city: string (nullable = true)\n",
    "\n",
    "csv_dataframe_new_schema = csv_dataframe.select(sqlfun.col(\"age\").cast(\"integer\"),\n",
    "                                                sqlfun.from_unixtime(sqlfun.unix_timestamp('birthday', 'MM/dd/yyy')).cast('date').alias(\"birthday\"),\n",
    "                                                \"zip\",\n",
    "                                                \"city\")"
   ]
  },
  {
   "cell_type": "code",
   "execution_count": 9,
   "metadata": {
    "ExecuteTime": {
     "end_time": "2018-01-05T09:34:42.436907Z",
     "start_time": "2018-01-05T09:34:42.423887Z"
    },
    "scrolled": true
   },
   "outputs": [
    {
     "name": "stdout",
     "output_type": "stream",
     "text": [
      "root\n",
      " |-- age: integer (nullable = true)\n",
      " |-- birthday: date (nullable = true)\n",
      " |-- zip: string (nullable = true)\n",
      " |-- city: string (nullable = true)\n",
      "\n"
     ]
    }
   ],
   "source": [
    "csv_dataframe_new_schema.printSchema()"
   ]
  },
  {
   "cell_type": "code",
   "execution_count": 10,
   "metadata": {
    "ExecuteTime": {
     "end_time": "2018-01-05T09:34:47.945282Z",
     "start_time": "2018-01-05T09:34:47.853941Z"
    }
   },
   "outputs": [
    {
     "name": "stdout",
     "output_type": "stream",
     "text": [
      "+---+----------+-----+---------+\n",
      "|age|  birthday|  zip|     city|\n",
      "+---+----------+-----+---------+\n",
      "| 24|1982-03-22|70052| Adoamalu|\n",
      "| 45|1991-04-15|77601|Somepufad|\n",
      "| 58|1956-01-29|99244| Muhejcab|\n",
      "| 23|1967-01-09|11846| Bitheuli|\n",
      "| 18|1963-05-23|86903| Ruziffor|\n",
      "| 35|1997-08-07|27040|Ejapovodo|\n",
      "| 31|1996-12-03|13321|Berapizam|\n",
      "| 37|1991-05-02|81671|  Saggeub|\n",
      "| 26|1959-09-24|95581| Cigkesah|\n",
      "| 45|1980-03-25|77594|   Koveus|\n",
      "| 35|1988-06-30|91047|   Nuuzte|\n",
      "| 40|1968-04-14|46524|   Uczaja|\n",
      "| 39|1975-05-13|19801|Githiznob|\n",
      "| 23|1989-09-25|82620|Wewkabkim|\n",
      "| 18|1964-03-17|79747| Vezonave|\n",
      "| 48|1989-02-17|06611| Nurgazbe|\n",
      "| 33|1971-04-11|93393| Iwtukmad|\n",
      "| 28|1976-01-31|18158|  Oweziri|\n",
      "| 51|2000-04-08|70791| Atozibin|\n",
      "| 36|1976-08-03|02488| Toruzreb|\n",
      "+---+----------+-----+---------+\n",
      "only showing top 20 rows\n",
      "\n"
     ]
    }
   ],
   "source": [
    "csv_dataframe_new_schema.show()"
   ]
  },
  {
   "cell_type": "markdown",
   "metadata": {},
   "source": [
    "#### Columns in the dataset"
   ]
  },
  {
   "cell_type": "code",
   "execution_count": 11,
   "metadata": {},
   "outputs": [
    {
     "data": {
      "text/plain": [
       "['age', 'birthday', 'zip', 'city']"
      ]
     },
     "execution_count": 11,
     "metadata": {},
     "output_type": "execute_result"
    }
   ],
   "source": [
    "csv_dataframe_new_schema.columns"
   ]
  },
  {
   "cell_type": "markdown",
   "metadata": {},
   "source": [
    "#### datatype of the columns"
   ]
  },
  {
   "cell_type": "code",
   "execution_count": 12,
   "metadata": {},
   "outputs": [
    {
     "data": {
      "text/plain": [
       "[('age', 'int'), ('birthday', 'date'), ('zip', 'string'), ('city', 'string')]"
      ]
     },
     "execution_count": 12,
     "metadata": {},
     "output_type": "execute_result"
    }
   ],
   "source": [
    "csv_dataframe_new_schema.dtypes"
   ]
  },
  {
   "cell_type": "markdown",
   "metadata": {},
   "source": [
    "#### shape of dataset i.e number of rows and columns"
   ]
  },
  {
   "cell_type": "code",
   "execution_count": 13,
   "metadata": {},
   "outputs": [
    {
     "data": {
      "text/plain": [
       "5000"
      ]
     },
     "execution_count": 13,
     "metadata": {},
     "output_type": "execute_result"
    }
   ],
   "source": [
    "csv_dataframe_new_schema.count() #number of rows"
   ]
  },
  {
   "cell_type": "markdown",
   "metadata": {},
   "source": [
    "#### number of columns"
   ]
  },
  {
   "cell_type": "code",
   "execution_count": 14,
   "metadata": {},
   "outputs": [
    {
     "data": {
      "text/plain": [
       "4"
      ]
     },
     "execution_count": 14,
     "metadata": {},
     "output_type": "execute_result"
    }
   ],
   "source": [
    "len(csv_dataframe_new_schema.columns)"
   ]
  },
  {
   "cell_type": "markdown",
   "metadata": {},
   "source": [
    "#### performing some sorting of data"
   ]
  },
  {
   "cell_type": "code",
   "execution_count": 15,
   "metadata": {},
   "outputs": [],
   "source": [
    "from pyspark.sql.functions import desc"
   ]
  },
  {
   "cell_type": "code",
   "execution_count": 16,
   "metadata": {},
   "outputs": [
    {
     "name": "stdout",
     "output_type": "stream",
     "text": [
      "+---+----------+-----+---------+\n",
      "|age|  birthday|  zip|     city|\n",
      "+---+----------+-----+---------+\n",
      "| 65|1959-12-24|20590| Ogwigdov|\n",
      "| 65|1975-01-31|13199| Etuheoju|\n",
      "| 65|1977-07-03|99900|Dopijooko|\n",
      "| 65|1961-08-11|50253|  Pilokge|\n",
      "| 65|1957-03-26|37751|  Noubido|\n",
      "| 65|1970-05-12|12765|  Zeehfek|\n",
      "| 65|1996-07-09|69750|  Mesopni|\n",
      "| 65|1985-09-30|34277| Gadwopod|\n",
      "| 65|1994-11-11|44892| Bacekrer|\n",
      "| 65|1996-04-07|08338|  Pihozok|\n",
      "| 65|1991-09-27|30943|   Hohazu|\n",
      "| 65|1981-12-06|74061|Erazutkiz|\n",
      "| 65|1962-10-04|49070|Nazwezdak|\n",
      "| 65|1954-02-13|44773|Toggimjiz|\n",
      "| 65|1996-02-03|98919|   Rizoto|\n",
      "| 65|1956-06-23|41755|  Tovezab|\n",
      "| 65|1962-09-10|01472|Hegujibod|\n",
      "| 65|1991-11-04|42222| Tehporam|\n",
      "| 65|1970-11-22|39680| Mituwfog|\n",
      "| 65|1958-07-29|57335|  Visakin|\n",
      "+---+----------+-----+---------+\n",
      "only showing top 20 rows\n",
      "\n"
     ]
    }
   ],
   "source": [
    "csv_dataframe_new_schema.sort(desc(\"age\")).show() "
   ]
  },
  {
   "cell_type": "markdown",
   "metadata": {},
   "source": [
    "### finding the number of cities that falls within a certain age"
   ]
  },
  {
   "cell_type": "code",
   "execution_count": 17,
   "metadata": {},
   "outputs": [
    {
     "name": "stdout",
     "output_type": "stream",
     "text": [
      "+---+-----------+\n",
      "|age|count(city)|\n",
      "+---+-----------+\n",
      "| 65|         91|\n",
      "| 64|        103|\n",
      "| 63|        111|\n",
      "| 62|        101|\n",
      "| 61|         88|\n",
      "| 60|        105|\n",
      "| 59|        115|\n",
      "| 58|         89|\n",
      "| 57|        122|\n",
      "| 56|         96|\n",
      "| 55|        113|\n",
      "| 54|         83|\n",
      "| 53|        113|\n",
      "| 52|        104|\n",
      "| 51|        100|\n",
      "| 50|         90|\n",
      "| 49|        100|\n",
      "| 48|         97|\n",
      "| 47|        104|\n",
      "| 46|         97|\n",
      "| 45|        116|\n",
      "| 44|         96|\n",
      "| 43|        105|\n",
      "| 42|        104|\n",
      "| 41|         98|\n",
      "| 40|        112|\n",
      "| 39|        134|\n",
      "| 38|        105|\n",
      "| 37|        101|\n",
      "| 36|        125|\n",
      "| 35|        126|\n",
      "| 34|         93|\n",
      "| 33|         96|\n",
      "| 32|        119|\n",
      "| 31|         92|\n",
      "| 30|         94|\n",
      "| 29|        123|\n",
      "| 28|         97|\n",
      "| 27|         96|\n",
      "| 26|        108|\n",
      "| 25|         99|\n",
      "| 24|        108|\n",
      "| 23|         86|\n",
      "| 22|        116|\n",
      "| 21|        105|\n",
      "| 20|         96|\n",
      "| 19|        128|\n",
      "| 18|        100|\n",
      "+---+-----------+\n",
      "\n"
     ]
    }
   ],
   "source": [
    "csv_dataframe_new_schema.groupby(['age']).agg({'city' : 'count'}).sort(desc(\"age\")).show(100)"
   ]
  },
  {
   "cell_type": "code",
   "execution_count": null,
   "metadata": {},
   "outputs": [],
   "source": []
  }
 ],
 "metadata": {
  "kernelspec": {
   "display_name": "Python 3",
   "language": "python",
   "name": "python3"
  },
  "language_info": {
   "codemirror_mode": {
    "name": "ipython",
    "version": 3
   },
   "file_extension": ".py",
   "mimetype": "text/x-python",
   "name": "python",
   "nbconvert_exporter": "python",
   "pygments_lexer": "ipython3",
   "version": "3.5.4"
  },
  "toc": {
   "nav_menu": {},
   "number_sections": true,
   "sideBar": true,
   "skip_h1_title": false,
   "toc_cell": false,
   "toc_position": {},
   "toc_section_display": "block",
   "toc_window_display": false
  }
 },
 "nbformat": 4,
 "nbformat_minor": 2
}
