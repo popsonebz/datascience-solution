{
 "cells": [
  {
   "cell_type": "markdown",
   "metadata": {},
   "source": [
    "### Get the csv path"
   ]
  },
  {
   "cell_type": "code",
   "execution_count": null,
   "metadata": {
    "ExecuteTime": {
     "end_time": "2018-01-05T08:06:14.444666Z",
     "start_time": "2018-01-05T08:06:13.623237Z"
    },
    "collapsed": true
   },
   "outputs": [],
   "source": [
    "import pandas as pd \n",
    "import os"
   ]
  },
  {
   "cell_type": "code",
   "execution_count": null,
   "metadata": {
    "ExecuteTime": {
     "end_time": "2018-01-05T08:11:33.069742Z",
     "start_time": "2018-01-05T08:11:33.060750Z"
    },
    "collapsed": false
   },
   "outputs": [],
   "source": [
    "csv_path = os.environ[\"CSV_FILE_DIR\"]\n",
    "if csv_path.endswith(\"/\"):\n",
    "     csv_path = csv_path + \"data.csv\"   \n",
    "else:\n",
    "    csv_path = csv_path + \"/data.csv\" "
   ]
  },
  {
   "cell_type": "code",
   "execution_count": null,
   "metadata": {
    "ExecuteTime": {
     "end_time": "2018-01-05T08:16:13.505423Z",
     "start_time": "2018-01-05T08:16:13.325843Z"
    },
    "collapsed": false
   },
   "outputs": [],
   "source": [
    "print(\"running bash command to check if file is there\")\n",
    "! ls -la $csv_path"
   ]
  },
  {
   "cell_type": "markdown",
   "metadata": {},
   "source": [
    "### Load CSV into pandas"
   ]
  },
  {
   "cell_type": "code",
   "execution_count": null,
   "metadata": {
    "ExecuteTime": {
     "end_time": "2018-01-05T08:19:27.220325Z",
     "start_time": "2018-01-05T08:19:27.192185Z"
    },
    "collapsed": false
   },
   "outputs": [],
   "source": [
    "try:\n",
    "    output = pd.read_csv(csv_path)\n",
    "    print(\"Load Successful\")\n",
    "except:\n",
    "    print(\"ERROR: Couldn't load\")    "
   ]
  },
  {
   "cell_type": "code",
   "execution_count": null,
   "metadata": {
    "ExecuteTime": {
     "end_time": "2018-01-05T08:20:56.458216Z",
     "start_time": "2018-01-05T08:20:56.422194Z"
    },
    "collapsed": false
   },
   "outputs": [],
   "source": [
    "output.head()"
   ]
  },
  {
   "cell_type": "code",
   "execution_count": null,
   "metadata": {
    "ExecuteTime": {
     "end_time": "2018-01-05T08:20:31.570032Z",
     "start_time": "2018-01-05T08:20:31.547178Z"
    },
    "collapsed": false
   },
   "outputs": [],
   "source": [
    "output.describe()"
   ]
  }
 ],
 "metadata": {
  "kernelspec": {
   "display_name": "py35_dev",
   "language": "python",
   "name": "py35_dev"
  },
  "language_info": {
   "codemirror_mode": {
    "name": "ipython",
    "version": 3
   },
   "file_extension": ".py",
   "mimetype": "text/x-python",
   "name": "python",
   "nbconvert_exporter": "python",
   "pygments_lexer": "ipython3",
   "version": "3.5.2"
  },
  "toc": {
   "nav_menu": {},
   "number_sections": true,
   "sideBar": true,
   "skip_h1_title": false,
   "toc_cell": false,
   "toc_position": {},
   "toc_section_display": "block",
   "toc_window_display": false
  }
 },
 "nbformat": 4,
 "nbformat_minor": 2
}
